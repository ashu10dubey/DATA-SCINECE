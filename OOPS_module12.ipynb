{
  "metadata": {
    "kernelspec": {
      "name": "python",
      "display_name": "Python (Pyodide)",
      "language": "python"
    },
    "language_info": {
      "codemirror_mode": {
        "name": "python",
        "version": 3
      },
      "file_extension": ".py",
      "mimetype": "text/x-python",
      "name": "python",
      "nbconvert_exporter": "python",
      "pygments_lexer": "ipython3",
      "version": "3.8"
    }
  },
  "nbformat_minor": 4,
  "nbformat": 4,
  "cells": [
    {
      "cell_type": "code",
      "source": "Q1. Explain Class and Object with respect to Object-Oriented Programming. Give a suitable example.\nClass: A class is a blueprint or template for creating objects. It defines a set of attributes (data) and methods (functions) that are shared by all objects created from the class. Classes encapsulate data for objects.\n\nObject: An object is an instance of a class. When a class is defined, no memory is allocated until an object of that class is created. Each object has its own state (attribute values) and behavior (methods).\n\nExample:\n\npython\nCopy code\n# Class Definition\nclass Car:\n    def __init__(self, brand, model, color):\n        self.brand = brand\n        self.model = model\n        self.color = color\n\n    def start(self):\n        return f\"{self.brand} {self.model} started!\"\n\n# Creating Objects (instances)\ncar1 = Car(\"Tesla\", \"Model S\", \"Red\")\ncar2 = Car(\"BMW\", \"X5\", \"Blue\")\n\nprint(car1.start())  # Output: Tesla Model S started!\nprint(car2.start())  # Output: BMW X5 started!\nIn this example, Car is a class, and car1, car2 are objects (instances) of the class.\n\nQ2. Name the four pillars of OOPs.\nThe four main pillars of Object-Oriented Programming (OOPs) are:\n\nEncapsulation: Bundling of data (attributes) and methods (functions) that operate on the data into a single unit (class). It also restricts direct access to some of the object's components.\n\nAbstraction: Hiding complex implementation details and exposing only the necessary functionality to the user. It simplifies interaction with objects.\n\nInheritance: A mechanism where a new class (child class) inherits properties and behaviors (methods) from an existing class (parent class), enabling code reuse.\n\nPolymorphism: Ability to present the same interface for different data types. It allows methods or objects to behave differently based on the input or the object calling the method.\n\nQ3. Explain why the __init__() function is used. Give a suitable example.\n__init__() is the constructor function in Python. It is automatically called when a new object is created. It is used to initialize the attributes of the class, providing initial values when the object is instantiated.\nExample:\n\npython\nCopy code\nclass Person:\n    def __init__(self, name, age):\n        self.name = name\n        self.age = age\n\n    def greet(self):\n        return f\"Hello, my name is {self.name} and I am {self.age} years old.\"\n\n# Creating Object and initializing values\nperson1 = Person(\"Alice\", 25)\n\nprint(person1.greet())  # Output: Hello, my name is Alice and I am 25 years old.\nHere, the __init__() method initializes the name and age attributes when a Person object is created.\n\nQ4. Why self is used in OOPs?\nself represents the instance of the class and is used to access instance variables (attributes) and methods within the class. It ensures that each object maintains its own data. Without self, Python would not know which object’s variables to modify or access.\nIn methods, self is passed as the first parameter to bind the method to the object instance.\n\nExample:\n\npython\nCopy code\nclass Dog:\n    def __init__(self, name):\n        self.name = name  # 'self.name' refers to the object's name\n\n    def bark(self):\n        return f\"{self.name} is barking!\"\n\ndog1 = Dog(\"Buddy\")\nprint(dog1.bark())  # Output: Buddy is barking!\nIn this example, self.name allows each Dog object to have its own name.\n\nQ5. What is inheritance? Give an example for each type of inheritance.\nInheritance is a mechanism in OOP where one class (child class) acquires the properties and behaviors (methods) of another class (parent class). This promotes code reuse and hierarchical relationships.\nTypes of Inheritance:\nSingle Inheritance: A class inherits from one parent class.\n\npython\nCopy code\nclass Animal:\n    def sound(self):\n        return \"Some sound\"\n\nclass Dog(Animal):  # Single Inheritance\n    def bark(self):\n        return \"Bark!\"\n\ndog = Dog()\nprint(dog.sound())  # Output: Some sound\nprint(dog.bark())   # Output: Bark!\nMultiple Inheritance: A class inherits from more than one parent class.\n\npython\nCopy code\nclass Animal:\n    def eat(self):\n        return \"Eating\"\n\nclass Bird:\n    def fly(self):\n        return \"Flying\"\n\nclass Sparrow(Animal, Bird):  # Multiple Inheritance\n    pass\n\nsparrow = Sparrow()\nprint(sparrow.eat())  # Output: Eating\nprint(sparrow.fly())  # Output: Flying\nMultilevel Inheritance: A class inherits from a child class, which in turn inherits from another parent class.\n\npython\nCopy code\nclass LivingBeing:\n    def breathe(self):\n        return \"Breathing\"\n\nclass Animal(LivingBeing):  # Multilevel Inheritance\n    def sound(self):\n        return \"Some sound\"\n\nclass Dog(Animal):\n    def bark(self):\n        return \"Bark!\"\n\ndog = Dog()\nprint(dog.breathe())  # Output: Breathing\nprint(dog.sound())    # Output: Some sound\nprint(dog.bark())     # Output: Bark!\nHierarchical Inheritance: Multiple child classes inherit from a single parent class.\n\npython\nCopy code\nclass Animal:\n    def sound(self):\n        return \"Some sound\"\n\nclass Dog(Animal):  # Hierarchical Inheritance\n    def bark(self):\n        return \"Bark!\"\n\nclass Cat(Animal):\n    def meow(self):\n        return \"Meow!\"\n\ndog = Dog()\ncat = Cat()\nprint(dog.sound())  # Output: Some sound\nprint(cat.sound())  # Output: Some sound\nHybrid Inheritance: A combination of two or more types of inheritance.\n\npython\nCopy code\nclass Animal:\n    def sound(self):\n        return \"Some sound\"\n\nclass Mammal(Animal):  # Part of Hybrid Inheritance\n    pass\n\nclass Bird(Animal):\n    pass\n\nclass Bat(Mammal, Bird):  # Hybrid Inheritance\n    pass\n\nbat = Bat()\nprint(bat.sound())  # Output: Some sound",
      "metadata": {
        "trusted": true
      },
      "outputs": [],
      "execution_count": null
    }
  ]
}